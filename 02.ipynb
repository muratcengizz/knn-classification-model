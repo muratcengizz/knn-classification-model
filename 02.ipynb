{
 "cells": [
  {
   "cell_type": "markdown",
   "id": "87d8796d-334c-48eb-8eb9-34229731170f",
   "metadata": {},
   "source": [
    "# K-NN Classification\n",
    "\n",
    "### E-postaların spam olup olmadığını tespit etmek için bir K-en yakın komşular sınıflandırma modeli kuracağız."
   ]
  },
  {
   "cell_type": "code",
   "execution_count": 30,
   "id": "fe109805-d50d-450a-a563-0fa0518f3001",
   "metadata": {},
   "outputs": [],
   "source": [
    "import numpy as np\n",
    "import pandas as pd\n",
    "import seaborn as sns\n",
    "import matplotlib.pyplot as plt\n",
    "from sklearn.neighbors import KNeighborsClassifier\n",
    "from sklearn.model_selection import train_test_split, GridSearchCV, cross_val_score\n",
    "from sklearn.metrics import accuracy_score, confusion_matrix, classification_report\n",
    "from sklearn.feature_extraction.text import TfidfVectorizer\n",
    "import warnings"
   ]
  },
  {
   "cell_type": "code",
   "execution_count": 31,
   "id": "717862fc-c542-4d64-8e66-16659e7fee51",
   "metadata": {},
   "outputs": [],
   "source": [
    "warnings.filterwarnings('ignore')"
   ]
  },
  {
   "cell_type": "code",
   "execution_count": 32,
   "id": "4efba269-d2f7-4bdd-b9db-8657d1b828fb",
   "metadata": {},
   "outputs": [
    {
     "data": {
      "text/html": [
       "<div>\n",
       "<style scoped>\n",
       "    .dataframe tbody tr th:only-of-type {\n",
       "        vertical-align: middle;\n",
       "    }\n",
       "\n",
       "    .dataframe tbody tr th {\n",
       "        vertical-align: top;\n",
       "    }\n",
       "\n",
       "    .dataframe thead th {\n",
       "        text-align: right;\n",
       "    }\n",
       "</style>\n",
       "<table border=\"1\" class=\"dataframe\">\n",
       "  <thead>\n",
       "    <tr style=\"text-align: right;\">\n",
       "      <th></th>\n",
       "      <th>Metin</th>\n",
       "      <th>Etiket</th>\n",
       "    </tr>\n",
       "  </thead>\n",
       "  <tbody>\n",
       "    <tr>\n",
       "      <th>0</th>\n",
       "      <td>Bu bir spam e-postasıdır</td>\n",
       "      <td>spam</td>\n",
       "    </tr>\n",
       "    <tr>\n",
       "      <th>1</th>\n",
       "      <td>Bu bir spam değildir</td>\n",
       "      <td>spam olmayan</td>\n",
       "    </tr>\n",
       "    <tr>\n",
       "      <th>2</th>\n",
       "      <td>Bir kampanya duyurusu</td>\n",
       "      <td>spam</td>\n",
       "    </tr>\n",
       "    <tr>\n",
       "      <th>3</th>\n",
       "      <td>Bugün toplantı var</td>\n",
       "      <td>spam olmayan</td>\n",
       "    </tr>\n",
       "    <tr>\n",
       "      <th>4</th>\n",
       "      <td>Büyük indirimler burada</td>\n",
       "      <td>spam</td>\n",
       "    </tr>\n",
       "  </tbody>\n",
       "</table>\n",
       "</div>"
      ],
      "text/plain": [
       "                      Metin        Etiket\n",
       "0  Bu bir spam e-postasıdır          spam\n",
       "1      Bu bir spam değildir  spam olmayan\n",
       "2     Bir kampanya duyurusu          spam\n",
       "3        Bugün toplantı var  spam olmayan\n",
       "4   Büyük indirimler burada          spam"
      ]
     },
     "execution_count": 32,
     "metadata": {},
     "output_type": "execute_result"
    }
   ],
   "source": [
    "# Veri setini oluşturalım.\n",
    "np.random.seed(42)\n",
    "\n",
    "# Metinlerin listesi\n",
    "texts = [\n",
    "    \"Bu bir spam e-postasıdır\",\n",
    "    \"Bu bir spam değildir\",\n",
    "    \"Bir kampanya duyurusu\",\n",
    "    \"Bugün toplantı var\",\n",
    "    \"Büyük indirimler burada\",\n",
    "    \"Bir iş teklifi\",\n",
    "    \"Bir indirim kodu\",\n",
    "    \"Bugün son gün\",\n",
    "    \"Yeni ürünlerimiz çıktı\",\n",
    "    \"Son fırsat\"\n",
    "]\n",
    "\n",
    "# Etiketlerin listesi\n",
    "labels = [\"spam\", \"spam olmayan\", \"spam\", \"spam olmayan\", \"spam\",\n",
    "          \"spam olmayan\", \"spam\", \"spam olmayan\", \"spam olmayan\", \"spam\"]\n",
    "\n",
    "data = list(zip(texts, labels))\n",
    "data = pd.DataFrame(data=data, columns=['Metin', 'Etiket'])\n",
    "data.head()"
   ]
  },
  {
   "cell_type": "code",
   "execution_count": 33,
   "id": "d1750a79-f1bf-4abd-afd2-c4bb8b89aa4c",
   "metadata": {},
   "outputs": [
    {
     "data": {
      "image/png": "[encoded data removed]",
      "text/plain": [
       "<Figure size 432x288 with 1 Axes>"
      ]
     },
     "metadata": {
      "needs_background": "light"
     },
     "output_type": "display_data"
    }
   ],
   "source": [
    "label_counts = data['Etiket'].value_counts()\n",
    "plt.bar(label_counts.index, label_counts.values)\n",
    "plt.title('Spam ve Spam Olmayan E-posta Dağılımı')\n",
    "plt.xlabel('Etiketler')\n",
    "plt.ylabel('E-posta Sayısı')\n",
    "plt.show()"
   ]
  },
  {
   "cell_type": "markdown",
   "id": "b985ff4e-c658-4d9a-9058-08db3e380964",
   "metadata": {},
   "source": [
    "# Model"
   ]
  },
  {
   "cell_type": "code",
   "execution_count": 34,
   "id": "c4cc8ec9-4cbd-43aa-93a6-9e15531a5f46",
   "metadata": {},
   "outputs": [
    {
     "name": "stdout",
     "output_type": "stream",
     "text": [
      "  (0, 14)\t0.5978349209257247\n",
      "  (0, 16)\t0.5082143009723982\n",
      "  (0, 0)\t0.35500683922426896\n",
      "  (0, 1)\t0.5082143009723982\n",
      "  (1, 5)\t0.5978349209257247\n",
      "  (1, 16)\t0.5082143009723982\n",
      "  (1, 0)\t0.35500683922426896\n",
      "  (1, 1)\t0.5082143009723982\n"
     ]
    }
   ],
   "source": [
    "# Metinleri vektörleştirmek için TF-IDF dönüşümünü kullanalım.\n",
    "vectorizer = TfidfVectorizer()\n",
    "\n",
    "# Bağımlı ve bağımsız değişkeni oluşturalım.\n",
    "X = vectorizer.fit_transform(data['Metin'])\n",
    "y = data['Etiket'].values\n",
    "print(X[0:2])"
   ]
  },
  {
   "cell_type": "code",
   "execution_count": 35,
   "id": "f0a85261-82a0-4232-a2fc-0d1de44d8d4e",
   "metadata": {},
   "outputs": [],
   "source": [
    "# eğitim ve test setlerini ayıralım.\n",
    "X_train, X_test, y_train, y_test = train_test_split(X, y, test_size=0.2, random_state=42)"
   ]
  },
  {
   "cell_type": "code",
   "execution_count": 36,
   "id": "258f3a87-5b2d-459b-81da-7d4150a8af5f",
   "metadata": {},
   "outputs": [],
   "source": [
    "# Modeli oluşturalım ve eğitelim.\n",
    "model = KNeighborsClassifier(n_neighbors=3).fit(X_train, y_train)"
   ]
  },
  {
   "cell_type": "code",
   "execution_count": 37,
   "id": "8b0286ea-0075-430d-a3e5-a77051cede86",
   "metadata": {},
   "outputs": [],
   "source": [
    "# Tahmin yapalım.\n",
    "predict = model.predict(X_test)"
   ]
  },
  {
   "cell_type": "code",
   "execution_count": 38,
   "id": "1756b01f-c4b0-4116-bda7-4bc117816ff0",
   "metadata": {},
   "outputs": [
    {
     "name": "stdout",
     "output_type": "stream",
     "text": [
      "Accuracy Score:  0.5 \n",
      "\n",
      "Confusion Matrix:\n",
      " [[0 0]\n",
      " [1 1]] \n",
      "\n",
      "Classification Report:\n",
      "               precision    recall  f1-score   support\n",
      "\n",
      "        spam       0.00      0.00      0.00         0\n",
      "spam olmayan       1.00      0.50      0.67         2\n",
      "\n",
      "    accuracy                           0.50         2\n",
      "   macro avg       0.50      0.25      0.33         2\n",
      "weighted avg       1.00      0.50      0.67         2\n",
      " \n",
      "\n"
     ]
    }
   ],
   "source": [
    "# Modeli değerlendirelim.\n",
    "accuracy = accuracy_score(y_test, predict)\n",
    "confusion = confusion_matrix(y_test, predict)\n",
    "report = classification_report(y_test, predict)\n",
    "\n",
    "print('Accuracy Score: ', accuracy, '\\n')\n",
    "print('Confusion Matrix:\\n', confusion, '\\n')\n",
    "print('Classification Report:\\n', report, '\\n')"
   ]
  },
  {
   "cell_type": "code",
   "execution_count": 39,
   "id": "408b287b-eda0-4042-aadd-5a74608fef79",
   "metadata": {},
   "outputs": [
    {
     "data": {
      "text/plain": [
       "{'algorithm': 'auto',\n",
       " 'leaf_size': 30,\n",
       " 'metric': 'minkowski',\n",
       " 'metric_params': None,\n",
       " 'n_jobs': None,\n",
       " 'n_neighbors': 3,\n",
       " 'p': 2,\n",
       " 'weights': 'uniform'}"
      ]
     },
     "execution_count": 39,
     "metadata": {},
     "output_type": "execute_result"
    }
   ],
   "source": [
    "model.get_params()"
   ]
  },
  {
   "cell_type": "code",
   "execution_count": 40,
   "id": "8c9d809f-b680-49ec-8176-8e8f2f6bacc2",
   "metadata": {},
   "outputs": [
    {
     "name": "stdout",
     "output_type": "stream",
     "text": [
      "Best Parameters:  {'n_neighbors': 3}\n",
      "Best Score:  0.6\n"
     ]
    }
   ],
   "source": [
    "# Model Tuning\n",
    "params = {\n",
    "    'n_neighbors': [1, 3, 5, 7],\n",
    "}\n",
    "\n",
    "grid = GridSearchCV(estimator=model, param_grid=params, cv=5).fit(X_train, y_train)\n",
    "\n",
    "best_params = grid.best_params_\n",
    "best_score = grid.best_score_\n",
    "\n",
    "print('Best Parameters: ', best_params)\n",
    "print('Best Score: ', best_score)"
   ]
  },
  {
   "cell_type": "markdown",
   "id": "e9b14512-bfd0-449f-a694-2038e5d8bf61",
   "metadata": {},
   "source": [
    "### Model tuning işleminde elde ettiğimiz parametreleri kullanarak modelimizi tekrar oluşturalım."
   ]
  },
  {
   "cell_type": "code",
   "execution_count": 41,
   "id": "bd0dc6af-3afd-44a9-ad22-019178d0e60d",
   "metadata": {},
   "outputs": [
    {
     "name": "stdout",
     "output_type": "stream",
     "text": [
      "Accuracy Score:  0.5\n"
     ]
    }
   ],
   "source": [
    "model = KNeighborsClassifier(**best_params).fit(X_train, y_train)\n",
    "predict = model.predict(X_test)\n",
    "accuracy = accuracy_score(y_test, predict)\n",
    "print('Accuracy Score: ', accuracy)"
   ]
  },
  {
   "cell_type": "code",
   "execution_count": 42,
   "id": "d71146c6-87db-4d84-92ec-c577375b46ef",
   "metadata": {},
   "outputs": [
    {
     "data": {
      "text/plain": [
       "array(['spam olmayan', 'spam'], dtype=object)"
      ]
     },
     "execution_count": 42,
     "metadata": {},
     "output_type": "execute_result"
    }
   ],
   "source": [
    "predict"
   ]
  },
  {
   "cell_type": "code",
   "execution_count": 43,
   "id": "2737dc8f-7c6a-45e0-8754-1c7e2ab7b90d",
   "metadata": {},
   "outputs": [
    {
     "data": {
      "text/plain": [
       "array(['spam olmayan', 'spam olmayan'], dtype=object)"
      ]
     },
     "execution_count": 43,
     "metadata": {},
     "output_type": "execute_result"
    }
   ],
   "source": [
    "y_test"
   ]
  },
  {
   "cell_type": "code",
   "execution_count": 44,
   "id": "90896096-765c-4175-bf41-dca78028855e",
   "metadata": {},
   "outputs": [
    {
     "name": "stdout",
     "output_type": "stream",
     "text": [
      "Cross Valudation Score:  [0.5 1.  0.  0.5 0.5]\n",
      "Mean Cross Valudation Score:  0.5\n"
     ]
    }
   ],
   "source": [
    "# Model Doğrulama\n",
    "scores = cross_val_score(model, X, y, cv=5)\n",
    "print('Cross Valudation Score: ', scores)\n",
    "print('Mean Cross Valudation Score: ', scores.mean())"
   ]
  },
  {
   "cell_type": "markdown",
   "id": "b56d360e-bd7f-4fba-b1da-008a80e1906c",
   "metadata": {},
   "source": [
    "# Tahmin"
   ]
  },
  {
   "cell_type": "code",
   "execution_count": 45,
   "id": "2cc8fc09-f838-4d97-bce5-18dbd9f949d6",
   "metadata": {},
   "outputs": [
    {
     "name": "stdout",
     "output_type": "stream",
     "text": [
      "Guess:  ['spam']\n"
     ]
    }
   ],
   "source": [
    "user_input = ['Büyük indirimlerle dolu bir kampanya']\n",
    "\n",
    "vector = vectorizer.transform(user_input)\n",
    "prediction = model.predict(vector)\n",
    "print('Guess: ', prediction)"
   ]
  },
  {
   "cell_type": "markdown",
   "id": "bbce2549-2263-4776-a8f2-d33807b3af81",
   "metadata": {},
   "source": [
    "# Sonuç\n",
    "\n",
    "### Üzerinde çalıştığımız veri setini kendimiz oluşturduk. Bu yüzden gerçek hayat senaryosunu temsil etmez. Amacımız K-NN sınıflandırma algoritmasını ve hiperparametrelerini gözlemleyip, pratik yapmaktır."
   ]
  }
 ],
 "metadata": {
  "kernelspec": {
   "display_name": "Python 3 (ipykernel)",
   "language": "python",
   "name": "python3"
  },
  "language_info": {
   "codemirror_mode": {
    "name": "ipython",
    "version": 3
   },
   "file_extension": ".py",
   "mimetype": "text/x-python",
   "name": "python",
   "nbconvert_exporter": "python",
   "pygments_lexer": "ipython3",
   "version": "3.9.12"
  }
 },
 "nbformat": 4,
 "nbformat_minor": 5
}
